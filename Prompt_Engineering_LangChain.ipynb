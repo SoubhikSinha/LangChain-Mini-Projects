{
 "cells": [
  {
   "cell_type": "markdown",
   "metadata": {},
   "source": [
    "# Prompt Engineering (LangChain)"
   ]
  },
  {
   "cell_type": "markdown",
   "metadata": {},
   "source": [
    "### Financial Advisor"
   ]
  },
  {
   "cell_type": "code",
   "execution_count": 1,
   "metadata": {},
   "outputs": [],
   "source": [
    "# Putting OpenAI API Secret Key to work\n",
    "\n",
    "import os\n",
    "os.environ[\"OPENAI_API_KEY\"] = \"\""
   ]
  },
  {
   "cell_type": "code",
   "execution_count": 2,
   "metadata": {},
   "outputs": [],
   "source": [
    "# Importing Langchain tools\n",
    "\n",
    "from langchain import PromptTemplate"
   ]
  },
  {
   "cell_type": "code",
   "execution_count": 3,
   "metadata": {},
   "outputs": [
    {
     "data": {
      "text/plain": [
       "'I want you to act as a Financial Advisor for People. \\nIn an easy way, explain the basics of income_tax.'"
      ]
     },
     "execution_count": 3,
     "metadata": {},
     "output_type": "execute_result"
    }
   ],
   "source": [
    "demo_template = template = \"\"\"I want you to act as a Financial Advisor for People. \n",
    "In an easy way, explain the basics of {financial_concept}.\"\"\"\n",
    "\n",
    "# Creating the Prompt Template\n",
    "prompt = PromptTemplate(\n",
    "    input_variables = ['financial_concept'],\n",
    "    template = demo_template\n",
    "    )\n",
    "\n",
    "# Putting input to the prompt\n",
    "prompt.format(financial_concept = 'income_tax') # This is how the message will go to LLM"
   ]
  },
  {
   "cell_type": "code",
   "execution_count": 4,
   "metadata": {},
   "outputs": [
    {
     "name": "stderr",
     "output_type": "stream",
     "text": [
      "C:\\Users\\dpsvn\\AppData\\Local\\Temp\\ipykernel_23176\\3182812770.py:6: LangChainDeprecationWarning: The class `OpenAI` was deprecated in LangChain 0.0.10 and will be removed in 1.0. An updated version of the class exists in the :class:`~langchain-openai package and should be used instead. To use it run `pip install -U :class:`~langchain-openai` and import as `from :class:`~langchain_openai import OpenAI``.\n",
      "  llm = OpenAI(temperature = 0.7)\n",
      "C:\\Users\\dpsvn\\AppData\\Local\\Temp\\ipykernel_23176\\3182812770.py:7: LangChainDeprecationWarning: The class `LLMChain` was deprecated in LangChain 0.1.17 and will be removed in 1.0. Use :meth:`~RunnableSequence, e.g., `prompt | llm`` instead.\n",
      "  chain1 = LLMChain(llm = llm, prompt = prompt)\n"
     ]
    }
   ],
   "source": [
    "# Passing the prompt to the LLM Model\n",
    "\n",
    "from langchain.llms import OpenAI\n",
    "from langchain.chains import LLMChain\n",
    "\n",
    "llm = OpenAI(temperature = 0.7)\n",
    "chain1 = LLMChain(llm = llm, prompt = prompt)"
   ]
  },
  {
   "cell_type": "code",
   "execution_count": 5,
   "metadata": {},
   "outputs": [
    {
     "name": "stderr",
     "output_type": "stream",
     "text": [
      "C:\\Users\\dpsvn\\AppData\\Local\\Temp\\ipykernel_23176\\2008276715.py:1: LangChainDeprecationWarning: The method `Chain.run` was deprecated in langchain 0.1.0 and will be removed in 1.0. Use :meth:`~invoke` instead.\n",
      "  chain1.run('income tax')\n"
     ]
    },
    {
     "data": {
      "text/plain": [
       "'\\nAs a Financial Advisor for People, it is important for you to have a basic understanding of income tax. Income tax is a tax that is imposed by the government on the income earned by individuals and businesses. It is a way for the government to generate revenue to fund public services and programs.\\n\\nThere are different types of income that are subject to tax, including wages, salaries, tips, interest, dividends, and capital gains. The amount of tax you pay is based on your taxable income, which is calculated by subtracting any deductions and exemptions from your total income.\\n\\nDeductions are expenses that can be subtracted from your income to reduce your taxable income. Some common deductions include mortgage interest, charitable donations, and certain business expenses. Exemptions, on the other hand, are a set amount of income that is not subject to tax. This amount is determined by your filing status and the number of dependents you have.\\n\\nThe tax rate you pay is determined by your income level and is divided into tax brackets. This means that the more you earn, the higher your tax rate will be. However, everyone pays the same tax rate for the income within each tax bracket. For example, if you are in the 22% tax bracket, you will pay 22'"
      ]
     },
     "execution_count": 5,
     "metadata": {},
     "output_type": "execute_result"
    }
   ],
   "source": [
    "chain1.run('income tax')"
   ]
  },
  {
   "cell_type": "code",
   "execution_count": 6,
   "metadata": {},
   "outputs": [
    {
     "data": {
      "text/plain": [
       "\"\\n\\nAs a Financial Advisor, I understand that the concept of Gross Domestic Product (GDP) may seem complex, but it's actually quite simple. GDP is a measure of a country's economic output. It represents the total value of all goods and services produced within a country's borders in a specific time period, usually a year. \\n\\nTo calculate GDP, we add together the value of all final goods and services produced in a country. This includes everything from cars and clothes to haircuts and restaurant meals. GDP also takes into account government spending and investments, as well as net exports (the difference between a country's exports and imports). \\n\\nGDP is an important indicator of a country's economic health because it reflects the overall level of economic activity and productivity. It helps us understand how well an economy is performing and whether it is growing or shrinking. \\n\\nThere are two main methods of calculating GDP: the expenditure approach and the income approach. The expenditure approach adds up all the spending on goods and services in a country, while the income approach adds up all the income earned by individuals and businesses. Both methods should result in the same GDP figure. \\n\\nIt's important to note that GDP is not a perfect measure of an economy's well-being. It does not account for factors\""
      ]
     },
     "execution_count": 6,
     "metadata": {},
     "output_type": "execute_result"
    }
   ],
   "source": [
    "chain1.run('GDP')"
   ]
  },
  {
   "cell_type": "markdown",
   "metadata": {},
   "source": [
    "<br>\n",
    "<br>\n",
    "\n",
    "### Language Translation"
   ]
  },
  {
   "cell_type": "code",
   "execution_count": 7,
   "metadata": {},
   "outputs": [],
   "source": [
    "from langchain import PromptTemplate\n",
    "\n",
    "template = '''In an easy way translate the following sentense '{sentence}' into {target_language}''' # 2 Parameters\n",
    "language_prompt = PromptTemplate(\n",
    "    input_variables = [\"sentence\", 'target_language'], # List of parameters (as input_variables)\n",
    "    template = template\n",
    ")"
   ]
  },
  {
   "cell_type": "code",
   "execution_count": 8,
   "metadata": {},
   "outputs": [
    {
     "data": {
      "text/plain": [
       "\"In an easy way translate the following sentense 'How are You' into Hindi\""
      ]
     },
     "execution_count": 8,
     "metadata": {},
     "output_type": "execute_result"
    }
   ],
   "source": [
    "language_prompt.format(sentence = \"How are You\", target_language = \"Hindi\")"
   ]
  },
  {
   "cell_type": "code",
   "execution_count": 9,
   "metadata": {},
   "outputs": [
    {
     "name": "stderr",
     "output_type": "stream",
     "text": [
      "C:\\Users\\dpsvn\\AppData\\Local\\Temp\\ipykernel_23176\\1587110753.py:4: LangChainDeprecationWarning: The method `Chain.__call__` was deprecated in langchain 0.1.0 and will be removed in 1.0. Use :meth:`~invoke` instead.\n",
      "  chain2({'sentence' : \"Hello, How Are You ?\", 'target_language' : \"Hindi\"})\n"
     ]
    },
    {
     "data": {
      "text/plain": [
       "{'sentence': 'Hello, How Are You ?',\n",
       " 'target_language': 'Hindi',\n",
       " 'text': '\\n\\nनमस्कार, आप कैसे हो? '}"
      ]
     },
     "execution_count": 9,
     "metadata": {},
     "output_type": "execute_result"
    }
   ],
   "source": [
    "chain2 = LLMChain(llm = llm, prompt = language_prompt)\n",
    "\n",
    "# For more than 1 parameters 👇 (We have to provide the inputs as key-value pairs - like in dictionary)\n",
    "chain2({'sentence' : \"Hello, How Are You ?\", 'target_language' : \"Hindi\"})"
   ]
  },
  {
   "cell_type": "code",
   "execution_count": 10,
   "metadata": {},
   "outputs": [
    {
     "data": {
      "text/plain": [
       "{'sentence': 'Hello, How Are You ?',\n",
       " 'target_language': 'French',\n",
       " 'text': '\\n\\nBonjour, comment allez-vous ?'}"
      ]
     },
     "execution_count": 10,
     "metadata": {},
     "output_type": "execute_result"
    }
   ],
   "source": [
    "chain2({'sentence' : \"Hello, How Are You ?\", 'target_language' : \"French\"})"
   ]
  },
  {
   "cell_type": "code",
   "execution_count": 11,
   "metadata": {},
   "outputs": [
    {
     "data": {
      "text/plain": [
       "{'sentence': 'Hello, How Are You ?',\n",
       " 'target_language': 'Kannada',\n",
       " 'text': '\\n\\nಹಲೋ, ನೀವು ಹೇಗಿದ್ದೀರಿ? (halō, nīvu hēgididdīri?)'}"
      ]
     },
     "execution_count": 11,
     "metadata": {},
     "output_type": "execute_result"
    }
   ],
   "source": [
    "chain2({'sentence' : \"Hello, How Are You ?\", 'target_language' : \"Kannada\"})"
   ]
  },
  {
   "cell_type": "markdown",
   "metadata": {},
   "source": [
    "<br>\n",
    "<br>\n",
    "\n",
    "### Finding Antonyms of Words"
   ]
  },
  {
   "cell_type": "code",
   "execution_count": 12,
   "metadata": {},
   "outputs": [],
   "source": [
    "from langchain import FewShotPromptTemplate\n",
    "\n",
    "# Creating a list of few-shot examples - as a hint to LLM (examples for LLM to understand)\n",
    "examples = [\n",
    "    {\"word\" : \"happy\", \"antonym\" : \"sad\"},\n",
    "    {\"word\" : \"tall\", \"antonym\" : \"short\"}\n",
    "]\n",
    "\n",
    "# Specifying the template to format the examples we have provided\n",
    "# (Using 'PromptTemplate' Class)\n",
    "example_formatter_template = \"\"\"Word: {word} || Antonym : {antonym}\"\"\"\n",
    "\n",
    "example_prompt = PromptTemplate(\n",
    "    input_variables = [\"word\", \"antonym\"],\n",
    "    template = example_formatter_template,\n",
    ")"
   ]
  },
  {
   "cell_type": "code",
   "execution_count": 13,
   "metadata": {},
   "outputs": [],
   "source": [
    "# Creating 'FewShotPromptTemplate' object\n",
    "\n",
    "few_shot_prompt = FewShotPromptTemplate(\n",
    "    # Examples to be inserted into the prompt\n",
    "    examples = examples,\n",
    "\n",
    "    # Formatting the examples so that they can be inserted the way we want - into the prompt\n",
    "    example_prompt = example_prompt,\n",
    "\n",
    "    # Prefix --> Some text that goes after the examples in the prompt\n",
    "    prefix = \"Give the antonym of every input\\n\",\n",
    "\n",
    "    # Suffix --> Some text that goes after the examples in the prompt\n",
    "    suffix = \"Word : {input} || Antonym : \",\n",
    "\n",
    "    # Input variables --> Variables that the overall prompt expects\n",
    "    input_variables = ['input'],\n",
    "\n",
    "    # Example Separator\n",
    "    example_separator = \"\\n\",\n",
    ")"
   ]
  },
  {
   "cell_type": "code",
   "execution_count": 14,
   "metadata": {},
   "outputs": [
    {
     "name": "stdout",
     "output_type": "stream",
     "text": [
      "Give the antonym of every input\n",
      "\n",
      "Word: happy || Antonym : sad\n",
      "Word: tall || Antonym : short\n",
      "Word : Big || Antonym : \n"
     ]
    }
   ],
   "source": [
    "# Observe the format of the Format (which will be given as input to the LLM)\n",
    "\n",
    "print(few_shot_prompt.format(input = 'Big'))"
   ]
  },
  {
   "cell_type": "code",
   "execution_count": 15,
   "metadata": {},
   "outputs": [
    {
     "data": {
      "text/plain": [
       "{'input': 'Big', 'text': 'Small'}"
      ]
     },
     "execution_count": 15,
     "metadata": {},
     "output_type": "execute_result"
    }
   ],
   "source": [
    "# Creating the Chain\n",
    "\n",
    "chain3 = LLMChain(llm = llm, prompt = few_shot_prompt)\n",
    "\n",
    "chain3({'input' : \"Big\"}) # Getting the Output from the LLM\n",
    "# You can also execute ▶️ chain3.run(\"Big\")"
   ]
  },
  {
   "cell_type": "code",
   "execution_count": null,
   "metadata": {},
   "outputs": [],
   "source": []
  }
 ],
 "metadata": {
  "kernelspec": {
   "display_name": "AlooBonda",
   "language": "python",
   "name": "python3"
  },
  "language_info": {
   "codemirror_mode": {
    "name": "ipython",
    "version": 3
   },
   "file_extension": ".py",
   "mimetype": "text/x-python",
   "name": "python",
   "nbconvert_exporter": "python",
   "pygments_lexer": "ipython3",
   "version": "3.11.9"
  }
 },
 "nbformat": 4,
 "nbformat_minor": 2
}
